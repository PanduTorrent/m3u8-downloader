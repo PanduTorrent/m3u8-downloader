{
  "cells": [
    {
      "attachments": {},
      "cell_type": "markdown",
      "metadata": {},
      "source": [
        "M3U8 TO GDRIVE UPLOADER "
      ]
    },
    {
      "cell_type": "code",
      "execution_count": null,
      "metadata": {
        "cellView": "form",
        "id": "H0qP3yiDrMD8"
      },
      "outputs": [],
      "source": [
        "\n",
        "from google.colab import drive\n",
        "drive.mount('/content/drive')"
      ]
    },
    {
      "cell_type": "code",
      "execution_count": null,
      "metadata": {
        "id": "9t3VWUOoDZ1I"
      },
      "outputs": [],
      "source": [
        "\n",
        "import os\n",
        "M3u8_link = \"\" #@param {type:\"string\"}\n",
        "Download_location = \"/content/drive/MyDrive/myvideo.mp4\" #@param {type:\"string\"}\n",
        "\n",
        "\n",
        "\n",
        "!sudo apt install -y ffmpeg\n",
        "!pip install --user m3u8downloader\n",
        "\n",
        "!~/.local/bin/downloadm3u8 -o \"$Download_location\" \"$M3u8_link\"\n",
        "\n"
      ]
    }
  ],
  "metadata": {
    "colab": {
      "authorship_tag": "ABX9TyNHUom0nbd4OQyzSzIhUuED",
      "include_colab_link": true,
      "mount_file_id": "1xGAiGOUpQZDm9KIvMXrYrU8hyXBMxscm",
      "name": "m3u8 downloader.ipynb",
      "provenance": []
    },
    "kernelspec": {
      "display_name": "Python 3",
      "name": "python3"
    },
    "language_info": {
      "name": "python"
    }
  },
  "nbformat": 4,
  "nbformat_minor": 0
}
